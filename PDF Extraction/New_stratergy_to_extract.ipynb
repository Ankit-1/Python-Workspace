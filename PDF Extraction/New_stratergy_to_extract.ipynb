{
 "cells": [
  {
   "cell_type": "code",
   "execution_count": 1,
   "metadata": {
    "collapsed": true
   },
   "outputs": [],
   "source": [
    "import PyPDF2\n"
   ]
  },
  {
   "cell_type": "code",
   "execution_count": 2,
   "metadata": {
    "collapsed": true
   },
   "outputs": [],
   "source": [
    "PDFfilename = \"2015 BATCH ONWARDS_BCA(020)_FINAL_MAY 2019.pdf\"\n",
    "pfr = PyPDF2.PdfFileReader(open(PDFfilename, \"rb\"))"
   ]
  },
  {
   "cell_type": "code",
   "execution_count": 3,
   "metadata": {
    "collapsed": true
   },
   "outputs": [],
   "source": [
    "pg386 = pfr.getPage(385)\n",
    "pg387 = pfr.getPage(386)\n",
    "writer = PyPDF2.PdfFileWriter()\n",
    "writer.addPage(pg386)\n",
    "writer.addPage(pg387)\n",
    "NewPDFfilename = \"allTables.pdf\"\n",
    "with open(NewPDFfilename, \"wb\") as outputStream:\n",
    "    writer.write(outputStream)"
   ]
  },
  {
   "cell_type": "code",
   "execution_count": null,
   "metadata": {
    "collapsed": true
   },
   "outputs": [],
   "source": []
  }
 ],
 "metadata": {
  "kernelspec": {
   "display_name": "Python 3",
   "language": "python",
   "name": "python3"
  },
  "language_info": {
   "codemirror_mode": {
    "name": "ipython",
    "version": 3
   },
   "file_extension": ".py",
   "mimetype": "text/x-python",
   "name": "python",
   "nbconvert_exporter": "python",
   "pygments_lexer": "ipython3",
   "version": "3.5.2"
  }
 },
 "nbformat": 4,
 "nbformat_minor": 2
}
